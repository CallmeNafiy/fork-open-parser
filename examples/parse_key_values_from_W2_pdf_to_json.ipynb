{
 "cells": [
  {
   "cell_type": "markdown",
   "metadata": {},
   "source": [
    "# Prompt to Extract Key-values into JSON from W2 (PDF) using advanced mode\n",
    "\n",
    "Below it's an example of using AnyParser to extract key-values from a W2 PDF into JSON format. (Note: the model is still in beta and is NOT robust enough to generate the same output. Please bear with it!)\n",
    "\n",
    "### 1. Load the libraries\n",
    "\n",
    "If you have install `any_parser`, uncomment the below line."
   ]
  },
  {
   "cell_type": "code",
   "execution_count": 21,
   "metadata": {},
   "outputs": [],
   "source": [
    "# !pip3 install python-dotenv\n",
    "# !pip3 install --upgrade any-parser"
   ]
  },
  {
   "cell_type": "code",
   "execution_count": 22,
   "metadata": {},
   "outputs": [],
   "source": [
    "import os\n",
    "import pandas as pd\n",
    "\n",
    "from dotenv import load_dotenv\n",
    "from any_parser import AnyParser\n"
   ]
  },
  {
   "cell_type": "markdown",
   "metadata": {},
   "source": [
    "### 2. Set up your AnyParser API key\n",
    "\n",
    "To set up your `CAMBIO_API_KEY` API key, you will:\n",
    "\n",
    "1. create a `.env` file in your root folder;\n",
    "2. add the following one line to your `.env file:\n",
    "    ```\n",
    "    CAMBIO_API_KEY=17b************************\n",
    "    ```\n",
    "\n",
    "Then run the below line to load your API key."
   ]
  },
  {
   "cell_type": "code",
   "execution_count": 23,
   "metadata": {},
   "outputs": [],
   "source": [
    "load_dotenv(override=True)\n",
    "example_apikey = os.getenv(\"CAMBIO_API_KEY\")"
   ]
  },
  {
   "cell_type": "markdown",
   "metadata": {},
   "source": [
    "### 3. Load sample data and Run AnyParser\n",
    "\n",
    "AnyParser supports both image and PDF.  First let's load a sample data to test AnyParser's capabilities.\n",
    "\n",
    "Now we can run AnyParser on our sample data and then display it in the Markdown format."
   ]
  },
  {
   "cell_type": "code",
   "execution_count": 24,
   "metadata": {},
   "outputs": [
    {
     "name": "stdout",
     "output_type": "stream",
     "text": [
      "Upload response: 204\n",
      "Extraction success.\n"
     ]
    }
   ],
   "source": [
    "example_local_file = \"./sample_data/test1.pdf\"\n",
    "example_prompt = \"Return table in a JSON format with each box's key and value.\"\n",
    "\n",
    "op = AnyParser(example_apikey)\n",
    "# mode can be \"basic\" or \"advanced\"\n",
    "qa_result = op.parse(example_local_file, example_prompt, mode=\"advanced\")\n"
   ]
  },
  {
   "cell_type": "code",
   "execution_count": 25,
   "metadata": {},
   "outputs": [
    {
     "data": {
      "text/plain": [
       "[[{\"a Employee's social security number\": '758-58-5787',\n",
       "   'b Employer identification number (EIN)': '78-8778788',\n",
       "   \"c Employer's name, address, and ZIP code\": 'DesignNext\\nKatham Dorbosto, Kashiani, Gopalganj\\nGopalganj, AK 8133',\n",
       "   'd Control number': '9',\n",
       "   \"e Employee's first name and initial\": 'Jesan',\n",
       "   'e Last name': 'Rahaman',\n",
       "   \"f Employee's address and ZIP code\": 'AL\\n877878878',\n",
       "   '1 Wages, tips, other compensation': '80000.00',\n",
       "   '2 Federal income tax withheld': '10368.00',\n",
       "   '3 Social security wages': '80000.00',\n",
       "   '4 Social security tax withheld': '4960.00',\n",
       "   '5 Medicare wages and tips': '80000.00',\n",
       "   '6 Medicare tax withheld': '1160.00',\n",
       "   '7 Social security tips': 'NA',\n",
       "   '8 Allocated tips': 'NA',\n",
       "   '10 Dependent care benefits': 'NA',\n",
       "   '11 Nonqualified plans': 'NA',\n",
       "   '13 Statutory Retroment employee Third-party sick pay plan': 'NA',\n",
       "   '14 Other': 'NA',\n",
       "   '15 State': 'AL',\n",
       "   '16 State wages, tips, etc.': '80000.00',\n",
       "   '17 State income tax': '3835.00',\n",
       "   '18 Local wages, tips, etc.': 'NA',\n",
       "   '19 Local income tax': 'NA',\n",
       "   '20 Locality name': 'NA'}]]"
      ]
     },
     "execution_count": 25,
     "metadata": {},
     "output_type": "execute_result"
    }
   ],
   "source": [
    "qa_result"
   ]
  },
  {
   "cell_type": "code",
   "execution_count": 27,
   "metadata": {},
   "outputs": [
    {
     "data": {
      "text/html": [
       "<div>\n",
       "<style scoped>\n",
       "    .dataframe tbody tr th:only-of-type {\n",
       "        vertical-align: middle;\n",
       "    }\n",
       "\n",
       "    .dataframe tbody tr th {\n",
       "        vertical-align: top;\n",
       "    }\n",
       "\n",
       "    .dataframe thead th {\n",
       "        text-align: right;\n",
       "    }\n",
       "</style>\n",
       "<table border=\"1\" class=\"dataframe\">\n",
       "  <thead>\n",
       "    <tr style=\"text-align: right;\">\n",
       "      <th></th>\n",
       "      <th>Value</th>\n",
       "    </tr>\n",
       "  </thead>\n",
       "  <tbody>\n",
       "    <tr>\n",
       "      <th>a Employee's social security number</th>\n",
       "      <td>758-58-5787</td>\n",
       "    </tr>\n",
       "    <tr>\n",
       "      <th>b Employer identification number (EIN)</th>\n",
       "      <td>78-8778788</td>\n",
       "    </tr>\n",
       "    <tr>\n",
       "      <th>c Employer's name, address, and ZIP code</th>\n",
       "      <td>DesignNext\\nKatham Dorbosto, Kashiani, Gopalga...</td>\n",
       "    </tr>\n",
       "    <tr>\n",
       "      <th>d Control number</th>\n",
       "      <td>9</td>\n",
       "    </tr>\n",
       "    <tr>\n",
       "      <th>e Employee's first name and initial</th>\n",
       "      <td>Jesan</td>\n",
       "    </tr>\n",
       "    <tr>\n",
       "      <th>e Last name</th>\n",
       "      <td>Rahaman</td>\n",
       "    </tr>\n",
       "    <tr>\n",
       "      <th>f Employee's address and ZIP code</th>\n",
       "      <td>AL\\n877878878</td>\n",
       "    </tr>\n",
       "    <tr>\n",
       "      <th>1 Wages, tips, other compensation</th>\n",
       "      <td>80000.00</td>\n",
       "    </tr>\n",
       "    <tr>\n",
       "      <th>2 Federal income tax withheld</th>\n",
       "      <td>10368.00</td>\n",
       "    </tr>\n",
       "    <tr>\n",
       "      <th>3 Social security wages</th>\n",
       "      <td>80000.00</td>\n",
       "    </tr>\n",
       "    <tr>\n",
       "      <th>4 Social security tax withheld</th>\n",
       "      <td>4960.00</td>\n",
       "    </tr>\n",
       "    <tr>\n",
       "      <th>5 Medicare wages and tips</th>\n",
       "      <td>80000.00</td>\n",
       "    </tr>\n",
       "    <tr>\n",
       "      <th>6 Medicare tax withheld</th>\n",
       "      <td>1160.00</td>\n",
       "    </tr>\n",
       "    <tr>\n",
       "      <th>7 Social security tips</th>\n",
       "      <td>NA</td>\n",
       "    </tr>\n",
       "    <tr>\n",
       "      <th>8 Allocated tips</th>\n",
       "      <td>NA</td>\n",
       "    </tr>\n",
       "    <tr>\n",
       "      <th>10 Dependent care benefits</th>\n",
       "      <td>NA</td>\n",
       "    </tr>\n",
       "    <tr>\n",
       "      <th>11 Nonqualified plans</th>\n",
       "      <td>NA</td>\n",
       "    </tr>\n",
       "    <tr>\n",
       "      <th>13 Statutory Retroment employee Third-party sick pay plan</th>\n",
       "      <td>NA</td>\n",
       "    </tr>\n",
       "    <tr>\n",
       "      <th>14 Other</th>\n",
       "      <td>NA</td>\n",
       "    </tr>\n",
       "    <tr>\n",
       "      <th>15 State</th>\n",
       "      <td>AL</td>\n",
       "    </tr>\n",
       "    <tr>\n",
       "      <th>16 State wages, tips, etc.</th>\n",
       "      <td>80000.00</td>\n",
       "    </tr>\n",
       "    <tr>\n",
       "      <th>17 State income tax</th>\n",
       "      <td>3835.00</td>\n",
       "    </tr>\n",
       "    <tr>\n",
       "      <th>18 Local wages, tips, etc.</th>\n",
       "      <td>NA</td>\n",
       "    </tr>\n",
       "    <tr>\n",
       "      <th>19 Local income tax</th>\n",
       "      <td>NA</td>\n",
       "    </tr>\n",
       "    <tr>\n",
       "      <th>20 Locality name</th>\n",
       "      <td>NA</td>\n",
       "    </tr>\n",
       "  </tbody>\n",
       "</table>\n",
       "</div>"
      ],
      "text/plain": [
       "                                                                                                Value\n",
       "a Employee's social security number                                                       758-58-5787\n",
       "b Employer identification number (EIN)                                                     78-8778788\n",
       "c Employer's name, address, and ZIP code            DesignNext\\nKatham Dorbosto, Kashiani, Gopalga...\n",
       "d Control number                                                                                    9\n",
       "e Employee's first name and initial                                                             Jesan\n",
       "e Last name                                                                                   Rahaman\n",
       "f Employee's address and ZIP code                                                       AL\\n877878878\n",
       "1 Wages, tips, other compensation                                                            80000.00\n",
       "2 Federal income tax withheld                                                                10368.00\n",
       "3 Social security wages                                                                      80000.00\n",
       "4 Social security tax withheld                                                                4960.00\n",
       "5 Medicare wages and tips                                                                    80000.00\n",
       "6 Medicare tax withheld                                                                       1160.00\n",
       "7 Social security tips                                                                             NA\n",
       "8 Allocated tips                                                                                   NA\n",
       "10 Dependent care benefits                                                                         NA\n",
       "11 Nonqualified plans                                                                              NA\n",
       "13 Statutory Retroment employee Third-party sic...                                                 NA\n",
       "14 Other                                                                                           NA\n",
       "15 State                                                                                           AL\n",
       "16 State wages, tips, etc.                                                                   80000.00\n",
       "17 State income tax                                                                           3835.00\n",
       "18 Local wages, tips, etc.                                                                         NA\n",
       "19 Local income tax                                                                                NA\n",
       "20 Locality name                                                                                   NA"
      ]
     },
     "execution_count": 27,
     "metadata": {},
     "output_type": "execute_result"
    }
   ],
   "source": [
    "data = qa_result[0]\n",
    "keys = [list(item.keys()) for item in data][0]\n",
    "values = [list(item.values()) for item in data][0]\n",
    "\n",
    "# Create a DataFrame\n",
    "df = pd.DataFrame(values, index=keys, columns=['Value'])\n",
    "\n",
    "df"
   ]
  },
  {
   "cell_type": "markdown",
   "metadata": {},
   "source": [
    "## End of the notebook\n",
    "\n",
    "Check more [case studies](https://www.cambioml.com/blog) of CambioML!\n",
    "\n",
    "<a href=\"https://www.cambioml.com/\" title=\"Title\">\n",
    "    <img src=\"./sample_data/cambioml_logo_large.png\" style=\"height: 100px; display: block; margin-left: auto; margin-right: auto;\"/>\n",
    "</a>"
   ]
  }
 ],
 "metadata": {
  "kernelspec": {
   "display_name": "any-parser",
   "language": "python",
   "name": "python3"
  },
  "language_info": {
   "codemirror_mode": {
    "name": "ipython",
    "version": 3
   },
   "file_extension": ".py",
   "mimetype": "text/x-python",
   "name": "python",
   "nbconvert_exporter": "python",
   "pygments_lexer": "ipython3",
   "version": "3.10.14"
  }
 },
 "nbformat": 4,
 "nbformat_minor": 2
}
