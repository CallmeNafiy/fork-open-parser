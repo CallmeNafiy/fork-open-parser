{
 "cells": [
  {
   "cell_type": "code",
   "execution_count": 3,
   "metadata": {},
   "outputs": [],
   "source": [
    "%reload_ext autoreload\n",
    "%autoreload 2\n",
    "\n",
    "import sys\n",
    "\n",
    "sys.path.append(\".\")\n",
    "sys.path.append(\"..\")\n",
    "sys.path.append(\"../..\")"
   ]
  },
  {
   "cell_type": "code",
   "execution_count": 4,
   "metadata": {},
   "outputs": [],
   "source": [
    "import os\n",
    "from dotenv import load_dotenv\n",
    "from open_parser import OpenParser\n"
   ]
  },
  {
   "cell_type": "code",
   "execution_count": 5,
   "metadata": {},
   "outputs": [],
   "source": [
    "load_dotenv(override=True)\n",
    "\n",
    "example_apikey = os.getenv(\"CAMBIO_API_KEY\")"
   ]
  },
  {
   "cell_type": "code",
   "execution_count": 8,
   "metadata": {},
   "outputs": [
    {
     "name": "stdout",
     "output_type": "stream",
     "text": [
      "Upload response: 204\n",
      "Extraction success.\n",
      "[{'result': [{'FY23 Q1': {'Office Commercial products and cloud services revenue growth (y/y)': '7%/13%', 'Office Consumer products and cloud services revenue growth (y/y)': '7%/11%', 'Office 365 Commercial seat growth (y/y)': '14%', 'Microsoft 365 Consumer subscribers (in millions)': '65.1', 'Dynamics products and cloud services revenue growth (y/y)': '15%/22%', 'LinkedIn revenue growth (y/y)': '17%/21%'}}, {'FY23 Q2': {'Office Commercial products and cloud services revenue growth (y/y)': '7%/14%', 'Office Consumer products and cloud services revenue growth (y/y)': '2%/3%', 'Office 365 Commercial seat growth (y/y)': '12%', 'Microsoft 365 Consumer subscribers (in millions)': '67.7', 'Dynamics products and cloud services revenue growth (y/y)': '13%/20%', 'LinkedIn revenue growth (y/y)': '10%/14%'}}, {'FY23 Q3': {'Office Commercial products and cloud services revenue growth (y/y)': '13%/17%', 'Office Consumer products and cloud services revenue growth (y/y)': '1%/4%', 'Office 365 Commercial seat growth (y/y)': '11%', 'Microsoft 365 Consumer subscribers (in millions)': '70.8', 'Dynamics products and cloud services revenue growth (y/y)': '17%/21%', 'LinkedIn revenue growth (y/y)': '8%/11%'}}, {'FY23 Q4': {'Office Commercial products and cloud services revenue growth (y/y)': '12%/14%', 'Office Consumer products and cloud services revenue growth (y/y)': '3%/6%', 'Office 365 Commercial seat growth (y/y)': '11%', 'Microsoft 365 Consumer subscribers (in millions)': '74.9', 'Dynamics products and cloud services revenue growth (y/y)': '19%/21%', 'LinkedIn revenue growth (y/y)': '6%/8%'}}, {'FY24 Q1': {'Office Commercial products and cloud services revenue growth (y/y)': '15%/14%', 'Office Consumer products and cloud services revenue growth (y/y)': '3%/4%', 'Office 365 Commercial seat growth (y/y)': '10%', 'Microsoft 365 Consumer subscribers (in millions)': '76.7', 'Dynamics products and cloud services revenue growth (y/y)': '22%/21%', 'LinkedIn revenue growth (y/y)': '8%'}}], 'log': {'instruction': 'Return table under Investor Metrics in JSON format with year as the key and the column as subkeys.', 'source': '', 'usage': {'input_tokens': 1758, 'output_tokens': 753}}, 'page_num': 0}]\n"
     ]
    }
   ],
   "source": [
    "example_local_file = \"./test2.pdf\"\n",
    "example_prompt = \"Return table under Investor Metrics in JSON format with year as the key and the column as subkeys.\"\n",
    "\n",
    "op = OpenParser(example_apikey)\n",
    "qa_result = op.parse(example_local_file, example_prompt)\n",
    "\n",
    "print(qa_result)\n"
   ]
  }
 ],
 "metadata": {
  "kernelspec": {
   "display_name": "open-parser",
   "language": "python",
   "name": "python3"
  },
  "language_info": {
   "codemirror_mode": {
    "name": "ipython",
    "version": 3
   },
   "file_extension": ".py",
   "mimetype": "text/x-python",
   "name": "python",
   "nbconvert_exporter": "python",
   "pygments_lexer": "ipython3",
   "version": "3.10.14"
  }
 },
 "nbformat": 4,
 "nbformat_minor": 2
}
