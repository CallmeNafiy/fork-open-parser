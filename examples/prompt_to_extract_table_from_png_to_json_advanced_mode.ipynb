{
 "cells": [
  {
   "cell_type": "markdown",
   "metadata": {},
   "source": [
    "# Prompt to Extract Key-values into JSON from png using advanced mode\n",
    "\n",
    "Below it's an example of using AnyParser to extract key-values from a png into JSON format. (Note: the model is still in beta and is NOT robust enough to generate the same output. Please bear with it!)\n",
    "\n",
    "### 1. Load the libraries\n",
    "\n",
    "If you have install `any_parser`, uncomment the below line."
   ]
  },
  {
   "cell_type": "code",
   "execution_count": 3,
   "metadata": {},
   "outputs": [],
   "source": [
    "# !pip3 install python-dotenv\n",
    "# !pip3 install --upgrade any-parser"
   ]
  },
  {
   "cell_type": "code",
   "execution_count": 5,
   "metadata": {},
   "outputs": [],
   "source": [
    "import os\n",
    "import pandas as pd\n",
    "\n",
    "from dotenv import load_dotenv\n",
    "from any_parser import AnyParser\n"
   ]
  },
  {
   "cell_type": "markdown",
   "metadata": {},
   "source": [
    "### 2. Set up your AnyParser API key\n",
    "\n",
    "To set up your `CAMBIO_API_KEY` API key, you will:\n",
    "\n",
    "1. create a `.env` file in your root folder;\n",
    "2. add the following one line to your `.env file:\n",
    "    ```\n",
    "    CAMBIO_API_KEY=17b************************\n",
    "    ```\n",
    "\n",
    "Then run the below line to load your API key."
   ]
  },
  {
   "cell_type": "code",
   "execution_count": 6,
   "metadata": {},
   "outputs": [],
   "source": [
    "load_dotenv(override=True)\n",
    "example_apikey = os.getenv(\"CAMBIO_API_KEY\")"
   ]
  },
  {
   "cell_type": "markdown",
   "metadata": {},
   "source": [
    "### 3. Load sample data and Run AnyParser\n",
    "\n",
    "AnyParser supports both image and PDF.  First let's load a sample data to test AnyParser's capabilities.\n",
    "\n",
    "Now we can run AnyParser on our sample data and then display it in the Markdown format."
   ]
  },
  {
   "cell_type": "code",
   "execution_count": 7,
   "metadata": {},
   "outputs": [
    {
     "name": "stdout",
     "output_type": "stream",
     "text": [
      "Upload response: 204\n",
      "Extraction success.\n"
     ]
    }
   ],
   "source": [
    "example_local_file = \"./sample_data/test3.png\"\n",
    "example_prompt = \"Return table in a JSON format with each box's key and value.\"\n",
    "\n",
    "op = AnyParser(example_apikey)\n",
    "# mode can be \"basic\" or \"advanced\"\n",
    "qa_result = op.parse(example_local_file, example_prompt, mode=\"advanced\")\n"
   ]
  },
  {
   "cell_type": "code",
   "execution_count": 12,
   "metadata": {},
   "outputs": [
    {
     "data": {
      "text/html": [
       "<div>\n",
       "<style scoped>\n",
       "    .dataframe tbody tr th:only-of-type {\n",
       "        vertical-align: middle;\n",
       "    }\n",
       "\n",
       "    .dataframe tbody tr th {\n",
       "        vertical-align: top;\n",
       "    }\n",
       "\n",
       "    .dataframe thead th {\n",
       "        text-align: right;\n",
       "    }\n",
       "</style>\n",
       "<table border=\"1\" class=\"dataframe\">\n",
       "  <thead>\n",
       "    <tr style=\"text-align: right;\">\n",
       "      <th></th>\n",
       "      <th>Item 1</th>\n",
       "      <th>Item 2</th>\n",
       "      <th>Item 3</th>\n",
       "      <th>Item 4</th>\n",
       "      <th>Item 5</th>\n",
       "    </tr>\n",
       "  </thead>\n",
       "  <tbody>\n",
       "    <tr>\n",
       "      <th>Office Commercial products and cloud services revenue growth (y/y)</th>\n",
       "      <td>7% / 13%</td>\n",
       "      <td>7% / 14%</td>\n",
       "      <td>13%/17%</td>\n",
       "      <td>12% / 14%</td>\n",
       "      <td>15% / 14%</td>\n",
       "    </tr>\n",
       "    <tr>\n",
       "      <th>Office Consumer products and cloud services revenue growth (y/y)</th>\n",
       "      <td>7% / 11%</td>\n",
       "      <td>(2)% / 3%</td>\n",
       "      <td>1% / 4%</td>\n",
       "      <td>3% / 6%</td>\n",
       "      <td>3% / 4%</td>\n",
       "    </tr>\n",
       "    <tr>\n",
       "      <th>Office 365 Commercial seat growth (y/y)</th>\n",
       "      <td>14%</td>\n",
       "      <td>12%</td>\n",
       "      <td>11%</td>\n",
       "      <td>11%</td>\n",
       "      <td>10%</td>\n",
       "    </tr>\n",
       "    <tr>\n",
       "      <th>Microsoft 365 Consumer subscribers (in millions)</th>\n",
       "      <td>65.1</td>\n",
       "      <td>67.7</td>\n",
       "      <td>70.8</td>\n",
       "      <td>74.9</td>\n",
       "      <td>76.7</td>\n",
       "    </tr>\n",
       "    <tr>\n",
       "      <th>Dynamics products and cloud services revenue growth (y/y)</th>\n",
       "      <td>15% / 22%</td>\n",
       "      <td>13% / 20%</td>\n",
       "      <td>17% / 21%</td>\n",
       "      <td>19% / 21%</td>\n",
       "      <td>22% / 21%</td>\n",
       "    </tr>\n",
       "    <tr>\n",
       "      <th>LinkedIn revenue growth (y/y)</th>\n",
       "      <td>17% / 21%</td>\n",
       "      <td>10% / 14%</td>\n",
       "      <td>8% / 11%</td>\n",
       "      <td>6% / 8%</td>\n",
       "      <td>8%</td>\n",
       "    </tr>\n",
       "  </tbody>\n",
       "</table>\n",
       "</div>"
      ],
      "text/plain": [
       "                                                       Item 1     Item 2  \\\n",
       "Office Commercial products and cloud services r...   7% / 13%   7% / 14%   \n",
       "Office Consumer products and cloud services rev...   7% / 11%  (2)% / 3%   \n",
       "Office 365 Commercial seat growth (y/y)                   14%        12%   \n",
       "Microsoft 365 Consumer subscribers (in millions)         65.1       67.7   \n",
       "Dynamics products and cloud services revenue gr...  15% / 22%  13% / 20%   \n",
       "LinkedIn revenue growth (y/y)                       17% / 21%  10% / 14%   \n",
       "\n",
       "                                                       Item 3     Item 4  \\\n",
       "Office Commercial products and cloud services r...    13%/17%  12% / 14%   \n",
       "Office Consumer products and cloud services rev...    1% / 4%    3% / 6%   \n",
       "Office 365 Commercial seat growth (y/y)                   11%        11%   \n",
       "Microsoft 365 Consumer subscribers (in millions)         70.8       74.9   \n",
       "Dynamics products and cloud services revenue gr...  17% / 21%  19% / 21%   \n",
       "LinkedIn revenue growth (y/y)                        8% / 11%    6% / 8%   \n",
       "\n",
       "                                                       Item 5  \n",
       "Office Commercial products and cloud services r...  15% / 14%  \n",
       "Office Consumer products and cloud services rev...    3% / 4%  \n",
       "Office 365 Commercial seat growth (y/y)                   10%  \n",
       "Microsoft 365 Consumer subscribers (in millions)         76.7  \n",
       "Dynamics products and cloud services revenue gr...  22% / 21%  \n",
       "LinkedIn revenue growth (y/y)                              8%  "
      ]
     },
     "execution_count": 12,
     "metadata": {},
     "output_type": "execute_result"
    }
   ],
   "source": [
    "# Assuming qa_result is the JSON data you provided\n",
    "data = qa_result[0]\n",
    "\n",
    "# Flatten the list of dictionaries into a DataFrame\n",
    "df = pd.DataFrame(data)\n",
    "\n",
    "# Transpose the DataFrame so keys become the row index\n",
    "df_transposed = df.T\n",
    "\n",
    "# Optionally, you can rename the columns to reflect the item number or any specific identification\n",
    "df_transposed.columns = [f'Item {i+1}' for i in range(len(df_transposed.columns))]\n",
    "\n",
    "df_transposed"
   ]
  },
  {
   "cell_type": "markdown",
   "metadata": {},
   "source": [
    "## End of the notebook\n",
    "\n",
    "Check more [case studies](https://www.cambioml.com/blog) of CambioML!\n",
    "\n",
    "<a href=\"https://www.cambioml.com/\" title=\"Title\">\n",
    "    <img src=\"./sample_data/cambioml_logo_large.png\" style=\"height: 100px; display: block; margin-left: auto; margin-right: auto;\"/>\n",
    "</a>"
   ]
  }
 ],
 "metadata": {
  "kernelspec": {
   "display_name": "open-parser",
   "language": "python",
   "name": "python3"
  },
  "language_info": {
   "codemirror_mode": {
    "name": "ipython",
    "version": 3
   },
   "file_extension": ".py",
   "mimetype": "text/x-python",
   "name": "python",
   "nbconvert_exporter": "python",
   "pygments_lexer": "ipython3",
   "version": "3.10.14"
  }
 },
 "nbformat": 4,
 "nbformat_minor": 2
}
