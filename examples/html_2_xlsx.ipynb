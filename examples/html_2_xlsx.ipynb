{
 "cells": [
  {
   "cell_type": "markdown",
   "metadata": {},
   "source": [
    "# HTML 2 XLSX\n",
    "Notebook to convert the HTML output of `AnyParser` to an XLSX file."
   ]
  },
  {
   "cell_type": "markdown",
   "metadata": {},
   "source": [
    "## 1. Install Libraries"
   ]
  },
  {
   "cell_type": "code",
   "execution_count": 1,
   "metadata": {},
   "outputs": [
    {
     "name": "stdout",
     "output_type": "stream",
     "text": [
      "Requirement already satisfied: BeautifulSoup4 in /Users/joseortiz/anaconda3/envs/open-parser/lib/python3.10/site-packages (4.12.3)\n",
      "Requirement already satisfied: soupsieve>1.2 in /Users/joseortiz/anaconda3/envs/open-parser/lib/python3.10/site-packages (from BeautifulSoup4) (2.5)\n",
      "Requirement already satisfied: lxml in /Users/joseortiz/anaconda3/envs/open-parser/lib/python3.10/site-packages (5.2.1)\n",
      "Requirement already satisfied: openpyxl in /Users/joseortiz/anaconda3/envs/open-parser/lib/python3.10/site-packages (3.1.2)\n",
      "Requirement already satisfied: et-xmlfile in /Users/joseortiz/anaconda3/envs/open-parser/lib/python3.10/site-packages (from openpyxl) (1.1.0)\n",
      "Requirement already satisfied: pandas in /Users/joseortiz/anaconda3/envs/open-parser/lib/python3.10/site-packages (2.2.1)\n",
      "Requirement already satisfied: numpy<2,>=1.22.4 in /Users/joseortiz/anaconda3/envs/open-parser/lib/python3.10/site-packages (from pandas) (1.26.4)\n",
      "Requirement already satisfied: python-dateutil>=2.8.2 in /Users/joseortiz/anaconda3/envs/open-parser/lib/python3.10/site-packages (from pandas) (2.9.0)\n",
      "Requirement already satisfied: pytz>=2020.1 in /Users/joseortiz/anaconda3/envs/open-parser/lib/python3.10/site-packages (from pandas) (2024.1)\n",
      "Requirement already satisfied: tzdata>=2022.7 in /Users/joseortiz/anaconda3/envs/open-parser/lib/python3.10/site-packages (from pandas) (2024.1)\n",
      "Requirement already satisfied: six>=1.5 in /Users/joseortiz/anaconda3/envs/open-parser/lib/python3.10/site-packages (from python-dateutil>=2.8.2->pandas) (1.16.0)\n"
     ]
    }
   ],
   "source": [
    "# !pip3 install BeautifulSoup4\n",
    "# !pip3 install lxml\n",
    "# !pip3 install openpyxl\n",
    "# !pip3 install pandas"
   ]
  },
  {
   "cell_type": "markdown",
   "metadata": {},
   "source": [
    "## Input Data\n",
    "Load the html string from the `AnyParser` output, located in the html_2_xlsx/input folder."
   ]
  },
  {
   "cell_type": "code",
   "execution_count": 2,
   "metadata": {},
   "outputs": [],
   "source": [
    "from html_2_xlsx.input.html_input import input_html"
   ]
  },
  {
   "cell_type": "markdown",
   "metadata": {},
   "source": [
    "## Convert HTML to XLSX\n",
    "The `html_to_excel` function reads the html string and converts it to an XLSX file using **BeautifulSoup** and pandas."
   ]
  },
  {
   "cell_type": "code",
   "execution_count": 3,
   "metadata": {},
   "outputs": [],
   "source": [
    "import os\n",
    "from bs4 import BeautifulSoup\n",
    "import pandas as pd\n",
    "from io import StringIO\n",
    "\n",
    "\n",
    "def html_to_excel(html_string, output_folder, output_filename):\n",
    "    if not os.path.exists(output_folder):\n",
    "        os.makedirs(output_folder)\n",
    "\n",
    "    soup = BeautifulSoup(html_string, 'html.parser')\n",
    "\n",
    "    tables = soup.find_all('table')\n",
    "\n",
    "    dfs = {}\n",
    "    for i, table in enumerate(tables):\n",
    "        dfs[f\"Table_{i+1}\"] = pd.read_html(StringIO(str(table)))[0]\n",
    "\n",
    "    output_file = os.path.join(output_folder, output_filename)\n",
    "    with pd.ExcelWriter(output_file) as writer:\n",
    "        for name, df in dfs.items():\n",
    "            df.to_excel(writer, sheet_name=name, index=False)\n",
    "\n",
    "    print(f\"Excel file saved to {output_file}\")\n"
   ]
  },
  {
   "cell_type": "markdown",
   "metadata": {},
   "source": [
    "Run `html_to_excel` to convert the HTML to XLSX."
   ]
  },
  {
   "cell_type": "code",
   "execution_count": 4,
   "metadata": {},
   "outputs": [
    {
     "name": "stdout",
     "output_type": "stream",
     "text": [
      "Excel file saved to html_2_xlsx/output/html_2_excel_output.xlsx\n"
     ]
    }
   ],
   "source": [
    "output_file = 'html_2_excel_output.xlsx'\n",
    "output_folder = 'html_2_xlsx/output'\n",
    "html_to_excel(input_html, output_folder, output_file)"
   ]
  }
 ],
 "metadata": {
  "kernelspec": {
   "display_name": "open-parser",
   "language": "python",
   "name": "python3"
  },
  "language_info": {
   "codemirror_mode": {
    "name": "ipython",
    "version": 3
   },
   "file_extension": ".py",
   "mimetype": "text/x-python",
   "name": "python",
   "nbconvert_exporter": "python",
   "pygments_lexer": "ipython3",
   "version": "3.10.14"
  }
 },
 "nbformat": 4,
 "nbformat_minor": 2
}
